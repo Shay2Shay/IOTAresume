{
 "cells": [
  {
   "cell_type": "markdown",
   "id": "52d61916",
   "metadata": {},
   "source": [
    "# Simple Linear Regression\n",
    "### Importing libraries"
   ]
  },
  {
   "cell_type": "code",
   "execution_count": 1,
   "id": "c5133db9",
   "metadata": {
    "ExecuteTime": {
     "end_time": "2022-09-24T05:45:30.311785Z",
     "start_time": "2022-09-24T05:45:29.695069Z"
    }
   },
   "outputs": [],
   "source": [
    "import numpy as np\n",
    "import matplotlib.pyplot as plt"
   ]
  },
  {
   "cell_type": "markdown",
   "id": "396343d3",
   "metadata": {},
   "source": [
    "## Generating Random Data\n",
    "### Adding noise elements to a uniform line."
   ]
  },
  {
   "cell_type": "code",
   "execution_count": 2,
   "id": "02130673",
   "metadata": {
    "ExecuteTime": {
     "end_time": "2022-09-24T05:45:31.000693Z",
     "start_time": "2022-09-24T05:45:30.995336Z"
    }
   },
   "outputs": [],
   "source": [
    "length = 100\n",
    "xo = np.linspace(0,10,length)\n",
    "yo = 3*xo + 10\n",
    "noise1 = [4.5*(np.random.rand()-0.5) for i in range(length)]\n",
    "noise2 = [2.5*(np.random.rand()-0.5) for i in range(length)]\n",
    "y = yo + noise1 + noise2"
   ]
  },
  {
   "cell_type": "code",
   "execution_count": 3,
   "id": "b67db2bf",
   "metadata": {
    "ExecuteTime": {
     "end_time": "2022-09-24T05:45:31.623819Z",
     "start_time": "2022-09-24T05:45:31.480426Z"
    }
   },
   "outputs": [
    {
     "data": {
      "image/png": "[encoded data removed]",
      "text/plain": [
       "<Figure size 432x288 with 1 Axes>"
      ]
     },
     "metadata": {
      "needs_background": "light"
     },
     "output_type": "display_data"
    }
   ],
   "source": [
    "plt.scatter(xo,y)      #The generated data\n",
    "# plt.plot(xo, yo, 'r')  #The original line to which noise is added\n",
    "plt.grid()\n",
    "plt.show()"
   ]
  },
  {
   "cell_type": "markdown",
   "id": "472bdfee",
   "metadata": {
    "ExecuteTime": {
     "end_time": "2022-09-23T17:38:11.925794Z",
     "start_time": "2022-09-23T17:38:11.923562Z"
    }
   },
   "source": [
    "## Setting Up Regression\n",
    "### Insitialising Random Starting Point and Initialising variable named 'prev' to a very large value which will be used to calculate cost-differnce.\n",
    "### Also plotting that Random Line."
   ]
  },
  {
   "cell_type": "code",
   "execution_count": 4,
   "id": "694093ba",
   "metadata": {
    "ExecuteTime": {
     "end_time": "2022-09-24T05:45:32.503837Z",
     "start_time": "2022-09-24T05:45:32.499879Z"
    }
   },
   "outputs": [],
   "source": [
    "[m, c] = [np.random.rand(), np.random.rand()]  #This the starting point for gradiant descent.\n",
    "prev = 1000000000000000000"
   ]
  },
  {
   "cell_type": "code",
   "execution_count": 5,
   "id": "fe8bc7fd",
   "metadata": {
    "ExecuteTime": {
     "end_time": "2022-09-24T05:45:32.818876Z",
     "start_time": "2022-09-24T05:45:32.814150Z"
    }
   },
   "outputs": [],
   "source": [
    "Y = m * xo + c\n",
    "delta = Y - y\n",
    "cost = np.sum(delta**2)\n",
    "reduction = prev - cost"
   ]
  },
  {
   "cell_type": "code",
   "execution_count": 6,
   "id": "6255acda",
   "metadata": {
    "ExecuteTime": {
     "end_time": "2022-09-24T05:45:33.334302Z",
     "start_time": "2022-09-24T05:45:33.232508Z"
    },
    "scrolled": true
   },
   "outputs": [
    {
     "data": {
      "image/png": "[encoded data removed]",
      "text/plain": [
       "<Figure size 432x288 with 1 Axes>"
      ]
     },
     "metadata": {
      "needs_background": "light"
     },
     "output_type": "display_data"
    }
   ],
   "source": [
    "plt.scatter(xo, y)      #The generated data\n",
    "plt.plot(xo, Y, 'r')   #The random line\n",
    "plt.grid()\n",
    "plt.show()"
   ]
  },
  {
   "cell_type": "code",
   "execution_count": 7,
   "id": "6aee0630",
   "metadata": {
    "ExecuteTime": {
     "end_time": "2022-09-24T05:45:42.649729Z",
     "start_time": "2022-09-24T05:45:42.644752Z"
    }
   },
   "outputs": [
    {
     "data": {
      "text/plain": [
       "[0.6928039394786044, 0.03240892882431268]"
      ]
     },
     "execution_count": 7,
     "metadata": {},
     "output_type": "execute_result"
    }
   ],
   "source": [
    "[m, c]   # Value of slope and constant before Gradiant Descent"
   ]
  },
  {
   "cell_type": "markdown",
   "id": "4f75494f",
   "metadata": {},
   "source": [
    "## GRADIANT DESCENT"
   ]
  },
  {
   "cell_type": "code",
   "execution_count": 8,
   "id": "e91ed9ea",
   "metadata": {
    "ExecuteTime": {
     "end_time": "2022-09-24T05:45:44.882998Z",
     "start_time": "2022-09-24T05:45:44.561410Z"
    }
   },
   "outputs": [],
   "source": [
    "i = 0\n",
    "while(reduction > 0.00000001):\n",
    "    Y = m * xo + c\n",
    "    delta = Y - y\n",
    "    cost = np.sum(delta**2)\n",
    "    reduction = prev - cost\n",
    "\n",
    "    rate = 1/100000\n",
    "    grad_m = 2 * rate * np.sum(delta * xo)\n",
    "    grad_c = 2 * rate * np.sum(delta)\n",
    "    \n",
    "    #[m, c] = [m, c] - [grad_m, grad_c]\n",
    "    m -= grad_m\n",
    "    c -= grad_c\n",
    "    \n",
    "    prev = cost\n",
    "    i += 1"
   ]
  },
  {
   "cell_type": "code",
   "execution_count": 9,
   "id": "f55079f1",
   "metadata": {
    "ExecuteTime": {
     "end_time": "2022-09-24T05:45:45.972057Z",
     "start_time": "2022-09-24T05:45:45.966769Z"
    }
   },
   "outputs": [
    {
     "data": {
      "text/plain": [
       "[2.981793798619723, 10.331117457130508]"
      ]
     },
     "execution_count": 9,
     "metadata": {},
     "output_type": "execute_result"
    }
   ],
   "source": [
    "[m, c]   # New Predected Slope and Constant"
   ]
  },
  {
   "cell_type": "markdown",
   "id": "4f88c3ad",
   "metadata": {},
   "source": [
    "## Result >>>"
   ]
  },
  {
   "cell_type": "code",
   "execution_count": 10,
   "id": "65b073f2",
   "metadata": {
    "ExecuteTime": {
     "end_time": "2022-09-24T05:45:47.758307Z",
     "start_time": "2022-09-24T05:45:47.646205Z"
    }
   },
   "outputs": [
    {
     "data": {
      "image/png": "[encoded data removed]",
      "text/plain": [
       "<Figure size 432x288 with 1 Axes>"
      ]
     },
     "metadata": {
      "needs_background": "light"
     },
     "output_type": "display_data"
    }
   ],
   "source": [
    "plt.scatter(xo, y)      #The generated data\n",
    "plt.plot(xo, Y, 'r')   #The random line\n",
    "plt.grid()\n",
    "plt.show()"
   ]
  },
  {
   "cell_type": "code",
   "execution_count": null,
   "id": "eb6ddc9a",
   "metadata": {},
   "outputs": [],
   "source": []
  }
 ],
 "metadata": {
  "kernelspec": {
   "display_name": "Python 3 (ipykernel)",
   "language": "python",
   "name": "python3"
  },
  "language_info": {
   "codemirror_mode": {
    "name": "ipython",
    "version": 3
   },
   "file_extension": ".py",
   "mimetype": "text/x-python",
   "name": "python",
   "nbconvert_exporter": "python",
   "pygments_lexer": "ipython3",
   "version": "3.10.4"
  }
 },
 "nbformat": 4,
 "nbformat_minor": 5
}
